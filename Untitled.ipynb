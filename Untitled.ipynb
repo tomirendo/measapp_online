{
 "cells": [
  {
   "cell_type": "code",
   "execution_count": 3,
   "metadata": {
    "collapsed": false
   },
   "outputs": [
    {
     "name": "stdout",
     "output_type": "stream",
     "text": [
      "Ready!\n"
     ]
    }
   ],
   "source": [
    "print(\"Ready!\")"
   ]
  },
  {
   "cell_type": "code",
   "execution_count": 4,
   "metadata": {
    "collapsed": false
   },
   "outputs": [
    {
     "name": "stdout",
     "output_type": "stream",
     "text": [
      "Done Loading Device : Example Device 1\n",
      "Done Loading Device : Example Device 2\n",
      "\n",
      "\n",
      "Done Loading Device : Duck\n",
      "[0.0, -0.0372, 0.3027]\n",
      "[0.002631578947368421, -0.0339, 0.3027]\n",
      "[0.005263157894736842, -0.0296, 0.3027]\n",
      "[0.0078947368421052634, -0.0296, 0.3027]\n",
      "[0.010526315789473684, -0.0339, 0.3021]\n",
      "[0.013157894736842105, -0.0244, 0.303]\n",
      "[0.015789473684210527, -0.0296, 0.3021]\n",
      "[0.018421052631578946, -0.0189, 0.3024]\n",
      "[0.021052631578947368, -0.0217, 0.3024]\n",
      "[0.02368421052631579, -0.0217, 0.3021]\n",
      "[0.026315789473684209, -0.0272, 0.3021]\n",
      "[0.028947368421052631, -0.0339, 0.3024]\n",
      "[0.031578947368421054, -0.04, 0.3024]\n",
      "[0.034210526315789476, -0.0357, 0.3024]\n",
      "[0.036842105263157891, -0.0296, 0.3024]\n",
      "[0.039473684210526314, -0.0357, 0.3018]\n",
      "[0.042105263157894736, -0.0388, 0.3024]\n",
      "[0.044736842105263158, -0.0159, 0.3027]\n",
      "[0.04736842105263158, 0.0003, 0.3018]\n",
      "[0.050000000000000003, 0.007, 0.3024]\n",
      "Closed\n",
      "Closed Device : Example Device 1\n",
      "Closed\n",
      "Closed Device : Example Device 2\n",
      "Closed Device : Duck\n"
     ]
    }
   ],
   "source": [
    "from devices import devices\n",
    "\n",
    "import numpy\n",
    "from time import sleep\n",
    "\n",
    "with devices() as devices:\n",
    "    duck = devices.get_device(\"Duck\")\n",
    "    p = duck.object.get_properties()\n",
    "\n",
    "    duck.object.write_output(\"Port 0 AC\", 1)\n",
    "    duck.object.write_output(\"Port 1 AC\", .03)\n",
    "    sleep(3)\n",
    "    res = []\n",
    "    for value in numpy.linspace(0,0.05, 20):\n",
    "        duck.object.write_output(\"Port 0 DC\", value)\n",
    "        sleep(2)\n",
    "        res.append([value ,duck.object.read_input(\"ADC 0\"),duck.object.read_input(\"ADC 1\")])\n",
    "        print(res[-1])\n"
   ]
  },
  {
   "cell_type": "code",
   "execution_count": 12,
   "metadata": {
    "collapsed": false
   },
   "outputs": [
    {
     "data": {
      "text/plain": [
       "<matplotlib.axes._subplots.AxesSubplot at 0x107177390>"
      ]
     },
     "execution_count": 12,
     "metadata": {},
     "output_type": "execute_result"
    },
    {
     "data": {
      "image/png": "[encoded data removed]",
      "text/plain": [
       "<matplotlib.figure.Figure at 0x10719ecf8>"
      ]
     },
     "metadata": {},
     "output_type": "display_data"
    }
   ],
   "source": [
    "from pandas import DataFrame\n",
    "%matplotlib inline\n",
    "DataFrame([i[1:] for i in res], index=[i[0] for i in res]).plot()"
   ]
  },
  {
   "cell_type": "code",
   "execution_count": null,
   "metadata": {
    "collapsed": true
   },
   "outputs": [],
   "source": []
  }
 ],
 "metadata": {
  "kernelspec": {
   "display_name": "Python 3",
   "language": "python",
   "name": "python3"
  },
  "language_info": {
   "codemirror_mode": {
    "name": "ipython",
    "version": 3
   },
   "file_extension": ".py",
   "mimetype": "text/x-python",
   "name": "python",
   "nbconvert_exporter": "python",
   "pygments_lexer": "ipython3",
   "version": "3.5.0"
  }
 },
 "nbformat": 4,
 "nbformat_minor": 0
}
