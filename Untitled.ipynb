{
 "cells": [
  {
   "cell_type": "code",
   "execution_count": 1,
   "metadata": {
    "collapsed": false
   },
   "outputs": [
    {
     "name": "stdout",
     "output_type": "stream",
     "text": [
      "Done Loading Device : Example Device 1\n",
      "Query : ('*IDN?',) \n",
      "Done Loading Device : Lockin 1\n",
      "Cannot Initiate device Duck : could not open port '/dev/tty.usbmodem1421': FileNotFoundError(2, 'The system cannot find the path specified.', None, 3)\n",
      "['nx', 'x', 'y', 'r', 'phase']\n",
      "Query : ('SNAP?1,2,3,4',) \n",
      "1.0\n",
      "Closed\n",
      "Closed Device : Example Device 1\n",
      "Close\n",
      "Closed Device : Lockin 1\n"
     ]
    }
   ],
   "source": [
    "from devices import devices\n",
    "with devices() as devices:\n",
    "    lockin = devices.get_device(\"Lockin 1\")\n",
    "    print(lockin.object.list_inputs())\n",
    "    print(lockin.object.x) "
   ]
  },
  {
   "cell_type": "code",
   "execution_count": null,
   "metadata": {
    "collapsed": true
   },
   "outputs": [],
   "source": []
  }
 ],
 "metadata": {
  "kernelspec": {
   "display_name": "Python 3",
   "language": "python",
   "name": "python3"
  },
  "language_info": {
   "codemirror_mode": {
    "name": "ipython",
    "version": 3
   },
   "file_extension": ".py",
   "mimetype": "text/x-python",
   "name": "python",
   "nbconvert_exporter": "python",
   "pygments_lexer": "ipython3",
   "version": "3.5.2"
  }
 },
 "nbformat": 4,
 "nbformat_minor": 1
}
