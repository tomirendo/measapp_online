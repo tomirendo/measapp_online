{
 "cells": [
  {
   "cell_type": "code",
   "execution_count": 1,
   "metadata": {
    "collapsed": false
   },
   "outputs": [
    {
     "name": "stdout",
     "output_type": "stream",
     "text": [
      "Hello World\n"
     ]
    }
   ],
   "source": [
    "print(\"Hello World\")"
   ]
  },
  {
   "cell_type": "code",
   "execution_count": 2,
   "metadata": {
    "collapsed": false
   },
   "outputs": [
    {
     "name": "stdout",
     "output_type": "stream",
     "text": [
      "Cannot Initiate device Duck(MAC) : could not open port '/dev/tty.usbmodem1421': FileNotFoundError(2, 'The system cannot find the path specified.', None, 3)\n",
      "\n",
      "\n"
     ]
    }
   ],
   "source": [
    "from time import sleep\n",
    "from lab_devices import devices\n",
    "from numpy import linspace\n",
    "\n",
    "devs = devices()\n",
    "duck = devs['Duck']\n",
    "dmm = devs['DMM 1']\n",
    "lockin = devs['Lockin 1']"
   ]
  },
  {
   "cell_type": "code",
   "execution_count": 22,
   "metadata": {
    "collapsed": true
   },
   "outputs": [],
   "source": [
    "dmm.set_DCV()\n",
    "duck.set_ramp_rate(0.5)\n",
    "duck.set_AC(0,.3)\n",
    "duck.set_DC(0,0)\n",
    "duck.set_AC(1,1)"
   ]
  },
  {
   "cell_type": "code",
   "execution_count": 20,
   "metadata": {
    "collapsed": false
   },
   "outputs": [
    {
     "name": "stdout",
     "output_type": "stream",
     "text": [
      "[-0.042899384, 0.283907]\n",
      "[0.248019996, 0.283541]\n",
      "[0.361880096, 0.283815]\n",
      "[0.650326796, 0.283815]\n",
      "[0.770550905, 0.283449]\n",
      "[1.05858844, 0.28351]\n",
      "[1.1712599, 0.283846]\n",
      "[1.46928815, 0.283907]\n",
      "[1.63514781, 0.28351]\n",
      "[1.87957928, 0.283754]\n",
      "[2.08566231, 0.283937]\n",
      "[2.18116019, 0.283907]\n",
      "[2.4667912, 0.283693]\n",
      "[2.59963699, 0.283968]\n",
      "[2.78874321, 0.284121]\n",
      "[3.05475814, 0.283724]\n",
      "[3.24585712, 0.283907]\n",
      "[3.41821297, 0.284212]\n",
      "[3.73399349, 0.28409]\n",
      "[3.7832683, 0.284121]\n",
      "[4.14749164, 0.284365]\n",
      "[4.19022993, 0.284426]\n",
      "[4.49492669, 0.284121]\n",
      "[4.61526633, 0.284151]\n",
      "[4.92435467, 0.284456]\n",
      "[5.05595375, 0.284639]\n",
      "[5.36986051, 0.284822]\n",
      "[5.38690214, 0.284639]\n",
      "[5.73102417, 0.284609]\n",
      "[5.78157757, 0.285067]\n",
      "[5.9872347, 0.285006]\n",
      "[6.39923073, 0.285006]\n",
      "[6.45612284, 0.285341]\n",
      "[6.59165923, 0.285433]\n",
      "[6.96803118, 0.285128]\n",
      "[7.24395963, 0.285311]\n",
      "[7.18768197, 0.285769]\n",
      "[7.63918621, 0.285891]\n",
      "[7.78545607, 0.285769]\n",
      "[8.045106, 0.285769]\n",
      "[8.07434115, 0.286165]\n",
      "[8.42834003, 0.286318]\n",
      "[8.40090514, 0.285982]\n",
      "[8.88143417, 0.286257]\n",
      "[8.80366362, 0.286501]\n",
      "[9.14042813, 0.286379]\n",
      "[9.20694613, 0.286409]\n",
      "[9.19596604, 0.286806]\n",
      "[9.51445889, 0.286623]\n",
      "[9.51356798, 0.286928]\n"
     ]
    }
   ],
   "source": [
    "index = linspace(0,10,50)\n",
    "res = [] \n",
    "for value in index:\n",
    "    duck.set_DC(0, value)\n",
    "    sleep(2)\n",
    "    res.append([dmm.current_value, lockin.x])\n",
    "    print(res[-1])"
   ]
  },
  {
   "cell_type": "code",
   "execution_count": 21,
   "metadata": {
    "collapsed": false
   },
   "outputs": [
    {
     "data": {
      "text/plain": [
       "<matplotlib.axes._subplots.AxesSubplot at 0x87342b0>"
      ]
     },
     "execution_count": 21,
     "metadata": {},
     "output_type": "execute_result"
    },
    {
     "data": {
      "image/png": "[encoded data removed]",
      "text/plain": [
       "<matplotlib.figure.Figure at 0x8767f90>"
      ]
     },
     "metadata": {},
     "output_type": "display_data"
    }
   ],
   "source": [
    "from pandas import DataFrame\n",
    "%matplotlib inline\n",
    "df = DataFrame(res,columns=['dmm','lockin'], index = index)\n",
    "df.dmm.diff().plot()\n",
    "df.lockin.diff().plot()"
   ]
  },
  {
   "cell_type": "code",
   "execution_count": 40,
   "metadata": {
    "collapsed": false
   },
   "outputs": [
    {
     "data": {
      "text/plain": [
       "0.298647"
      ]
     },
     "execution_count": 40,
     "metadata": {},
     "output_type": "execute_result"
    }
   ],
   "source": [
    "lockin.x"
   ]
  },
  {
   "cell_type": "code",
   "execution_count": 41,
   "metadata": {
    "collapsed": false
   },
   "outputs": [
    {
     "data": {
      "text/plain": [
       "-0.0432236074"
      ]
     },
     "execution_count": 41,
     "metadata": {},
     "output_type": "execute_result"
    }
   ],
   "source": [
    "dmm.current_value"
   ]
  },
  {
   "cell_type": "code",
   "execution_count": 42,
   "metadata": {
    "collapsed": true
   },
   "outputs": [],
   "source": [
    "duck.set_DC(0, 1)"
   ]
  },
  {
   "cell_type": "code",
   "execution_count": 43,
   "metadata": {
    "collapsed": false
   },
   "outputs": [
    {
     "data": {
      "text/plain": [
       "1.0223971"
      ]
     },
     "execution_count": 43,
     "metadata": {},
     "output_type": "execute_result"
    }
   ],
   "source": [
    "dmm.current_value"
   ]
  },
  {
   "cell_type": "code",
   "execution_count": 44,
   "metadata": {
    "collapsed": false
   },
   "outputs": [
    {
     "name": "stdout",
     "output_type": "stream",
     "text": [
      "Closed Device : Duck\n",
      "Closed Device : DMM 1\n",
      "Closed Device : Lockin 1\n"
     ]
    }
   ],
   "source": [
    "devs.close()"
   ]
  },
  {
   "cell_type": "code",
   "execution_count": null,
   "metadata": {
    "collapsed": true
   },
   "outputs": [],
   "source": []
  }
 ],
 "metadata": {
  "kernelspec": {
   "display_name": "Python 3",
   "language": "python",
   "name": "python3"
  },
  "language_info": {
   "codemirror_mode": {
    "name": "ipython",
    "version": 3
   },
   "file_extension": ".py",
   "mimetype": "text/x-python",
   "name": "python",
   "nbconvert_exporter": "python",
   "pygments_lexer": "ipython3",
   "version": "3.5.2"
  }
 },
 "nbformat": 4,
 "nbformat_minor": 0
}
